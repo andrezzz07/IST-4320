{
 "cells": [
  {
   "cell_type": "code",
   "execution_count": 2,
   "metadata": {},
   "outputs": [
    {
     "name": "stdout",
     "output_type": "stream",
     "text": [
      " Using Github is very similar in a way to using Kali Linux or Metasploaitable which is a tool within Kali. Well although they use a bunch of different commands, at the end of it is just getting familiar with all the different types of commands they use. Another thing I learned that was very valuable is in order to understand this type of work, you got to think like the computer and understand how information travels through folders and directories.\n"
     ]
    }
   ],
   "source": [
    "what_I_did = \" Using Github is very similar in a way to using Kali Linux or Metasploaitable which is a tool within Kali. Well although they use a bunch of different commands, at the end of it is just getting familiar with all the different types of commands they use. Another thing I learned that was very valuable is in order to understand this type of work, you got to think like the computer and understand how information travels through folders and directories.\"\n",
    "\n",
    "print(what_I_did)"
   ]
  }
 ],
 "metadata": {
  "kernelspec": {
   "display_name": "Python 3",
   "language": "python",
   "name": "python3"
  },
  "language_info": {
   "codemirror_mode": {
    "name": "ipython",
    "version": 3
   },
   "file_extension": ".py",
   "mimetype": "text/x-python",
   "name": "python",
   "nbconvert_exporter": "python",
   "pygments_lexer": "ipython3",
   "version": "3.11.3"
  },
  "orig_nbformat": 4
 },
 "nbformat": 4,
 "nbformat_minor": 2
}
